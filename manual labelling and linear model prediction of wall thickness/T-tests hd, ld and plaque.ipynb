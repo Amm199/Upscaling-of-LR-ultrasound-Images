{
 "cells": [
  {
   "cell_type": "code",
   "execution_count": 5,
   "id": "e07b5dee",
   "metadata": {},
   "outputs": [
    {
     "name": "stdout",
     "output_type": "stream",
     "text": [
      "T-test for HD1 vs LD1: TtestResult(statistic=1.3177641266690583, pvalue=0.22013775627155896, df=9)\n",
      "T-test for HD2 vs LD2: TtestResult(statistic=1.0235294117647058, pvalue=0.3327804176583264, df=9)\n",
      "T-test for HD3 vs LD3: TtestResult(statistic=0.9873698840262558, pvalue=0.3492608723424847, df=9)\n"
     ]
    }
   ],
   "source": [
    "import pandas as pd\n",
    "from scipy.stats import ttest_rel\n",
    "\n",
    "# Load the CSV data into a DataFrame\n",
    "df = pd.read_csv(r'C:\\Users\\priye\\Desktop\\EngineeringProject\\Measurements_Carotid_jupyter_TTest.csv')  # Make sure to put the correct path to your CSV file here.\n",
    "\n",
    "# Perform paired T-tests for HD1 vs LD1, HD2 vs LD2, and HD3 vs LD3\n",
    "ttest_hd1_ld1 = ttest_rel(df['HD1'], df['LD1'])\n",
    "ttest_hd2_ld2 = ttest_rel(df['HD2'], df['LD2'])\n",
    "ttest_hd3_ld3 = ttest_rel(df['HD3'], df['LD3'])\n",
    "\n",
    "\n",
    "# Output the results of the T-tests\n",
    "print(\"T-test for HD1 vs LD1:\", ttest_hd1_ld1)\n",
    "print(\"T-test for HD2 vs LD2:\", ttest_hd2_ld2)\n",
    "print(\"T-test for HD3 vs LD3:\", ttest_hd3_ld3)\n"
   ]
  },
  {
   "cell_type": "code",
   "execution_count": null,
   "id": "7211dc5c",
   "metadata": {},
   "outputs": [],
   "source": []
  }
 ],
 "metadata": {
  "kernelspec": {
   "display_name": "Python 3 (ipykernel)",
   "language": "python",
   "name": "python3"
  },
  "language_info": {
   "codemirror_mode": {
    "name": "ipython",
    "version": 3
   },
   "file_extension": ".py",
   "mimetype": "text/x-python",
   "name": "python",
   "nbconvert_exporter": "python",
   "pygments_lexer": "ipython3",
   "version": "3.11.5"
  }
 },
 "nbformat": 4,
 "nbformat_minor": 5
}
